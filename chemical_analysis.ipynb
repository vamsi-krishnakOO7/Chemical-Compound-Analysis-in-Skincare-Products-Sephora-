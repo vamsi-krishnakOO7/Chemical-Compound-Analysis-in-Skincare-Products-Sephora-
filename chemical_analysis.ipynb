{
 "cells": [
  {
   "cell_type": "code",
   "execution_count": 1,
   "metadata": {},
   "outputs": [],
   "source": [
    "# Chemical Compound Analysis  \n",
    "import pandas as pd\n",
    "import numpy as np\n",
    "from sklearn.manifold import TSNE\n",
    "from bokeh.plotting import figure, show\n",
    "from bokeh.models import ColumnDataSource, HoverTool"
   ]
  },
  {
   "cell_type": "code",
   "execution_count": 2,
   "metadata": {},
   "outputs": [],
   "source": [
    "# Let's now load the dataset\n",
    "df = pd.read_csv('cosmetics.csv')"
   ]
  },
  {
   "cell_type": "code",
   "execution_count": 3,
   "metadata": {},
   "outputs": [
    {
     "name": "stdout",
     "output_type": "stream",
     "text": [
      "Five Rows:\n",
      "           Label         Brand  \\\n",
      "269  Sun protect      CLINIQUE   \n",
      "189     Cleanser      SHISEIDO   \n",
      "385  Moisturizer  BAREMINERALS   \n",
      "478     Cleanser      CAUDALIE   \n",
      "251  Moisturizer         TARTE   \n",
      "\n",
      "                                                  Name  Price  Rank  \\\n",
      "269         Broad Spectrum SPF 50 Sunscreen Face Cream     26   4.2   \n",
      "189                       Pureness Deep Cleansing Foam     22   4.2   \n",
      "385  COMPLEXION RESCUE™ Tinted Moisturizer Broad Sp...     30   3.9   \n",
      "478                          Deep Cleansing Exfoliator     35   4.6   \n",
      "251  4-in-1 Setting Mist - Rainforest of the Sea™ C...     25   3.9   \n",
      "\n",
      "                                           Ingredients  Combination  Dry  \\\n",
      "269  Oxybenzone 5.00% , Octisalate 5.00% , Homosala...            0    0   \n",
      "189  Water, Stearic Acid, PEG-8, Myristic Acid, Gly...            1    1   \n",
      "385  Water, Coconut Alkanes, Propanediol, Squalane,...            0    0   \n",
      "478  Water, Polylactic Acid, Hexyldecyl Stearate, G...            1    1   \n",
      "251  Water, SD Alcohol 40-B (Alcohol Denat.), Glyce...            0    0   \n",
      "\n",
      "     Normal  Oily  Sensitive  \n",
      "269       0     0          0  \n",
      "189       1     1          1  \n",
      "385       0     0          0  \n",
      "478       1     1          1  \n",
      "251       0     0          0  \n"
     ]
    }
   ],
   "source": [
    "# Lets display the first five rows\n",
    "print(\"Five Rows:\")\n",
    "print(df.sample(5))"
   ]
  },
  {
   "cell_type": "code",
   "execution_count": 4,
   "metadata": {},
   "outputs": [
    {
     "data": {
      "text/plain": [
       "Index(['Label', 'Brand', 'Name', 'Price', 'Rank', 'Ingredients', 'Combination',\n",
       "       'Dry', 'Normal', 'Oily', 'Sensitive'],\n",
       "      dtype='object')"
      ]
     },
     "execution_count": 4,
     "metadata": {},
     "output_type": "execute_result"
    }
   ],
   "source": [
    "#Here are all the columns of the data\n",
    "df.columns"
   ]
  },
  {
   "cell_type": "code",
   "execution_count": 5,
   "metadata": {},
   "outputs": [
    {
     "name": "stdout",
     "output_type": "stream",
     "text": [
      "\n",
      "Product Type Distribution:\n",
      "Moisturizer    298\n",
      "Cleanser       281\n",
      "Face Mask      266\n",
      "Treatment      248\n",
      "Eye cream      209\n",
      "Sun protect    170\n",
      "Name: Label, dtype: int64\n"
     ]
    }
   ],
   "source": [
    "# Here is the count of each type of product in 'Label' column\n",
    "print(\"\\nProduct Type Distribution:\")\n",
    "print(df['Label'].value_counts())"
   ]
  },
  {
   "cell_type": "code",
   "execution_count": 6,
   "metadata": {},
   "outputs": [],
   "source": [
    "\n",
    "moisturizers = df[df['Label'] == 'Moisturizer']\n"
   ]
  },
  {
   "cell_type": "code",
   "execution_count": 7,
   "metadata": {},
   "outputs": [],
   "source": [
    "\n",
    "moisturizers_dry = moisturizers[moisturizers['Dry'] == 1]"
   ]
  },
  {
   "cell_type": "code",
   "execution_count": 8,
   "metadata": {},
   "outputs": [],
   "source": [
    "moisturizers_dry = moisturizers_dry.reset_index(drop=True) #index reset"
   ]
  },
  {
   "cell_type": "code",
   "execution_count": 9,
   "metadata": {},
   "outputs": [
    {
     "name": "stdout",
     "output_type": "stream",
     "text": [
      "\n",
      "Filtered Data (Moisturizers for Dry Skin):\n",
      "         Label             Brand                                       Name  \\\n",
      "0  Moisturizer          CAUDALIE                                Grape Water   \n",
      "1  Moisturizer  FIRST AID BEAUTY              Ultra Repair Face Moisturizer   \n",
      "2  Moisturizer       MILK MAKEUP                              Cooling Water   \n",
      "3  Moisturizer           LANEIGE                        Water Sleeping Mask   \n",
      "4  Moisturizer       JOSIE MARAN  Argan Infinity Cream Intensive Creamy Oil   \n",
      "\n",
      "   Price  Rank                                        Ingredients  \\\n",
      "0     10   4.5  Vitis Vinifera (Grape) Fruit Water*, Vitis Vin...   \n",
      "1     24   4.2  Water, Glyceryl Stearate Se, Glycerin, Capryli...   \n",
      "2     24   3.8  Water, Butylene Glycol, Bis-PEG-18 Methyl Ethe...   \n",
      "3     25   4.4  Water, Butylene Glycol, Cyclopentasiloxane, Gl...   \n",
      "4     28   4.5  -100 Percent Pure Argan Oil: Nourishes and pro...   \n",
      "\n",
      "   Combination  Dry  Normal  Oily  Sensitive  \n",
      "0            1    1       1     1          1  \n",
      "1            1    1       1     1          1  \n",
      "2            1    1       1     1          1  \n",
      "3            1    1       1     1          1  \n",
      "4            1    1       1     0          1  \n"
     ]
    }
   ],
   "source": [
    "\n",
    "def display_filtered_data():\n",
    "    print(\"\\nFiltered Data (Moisturizers for Dry Skin):\")\n",
    "    print(moisturizers_dry.head())\n",
    "\n",
    "display_filtered_data()"
   ]
  },
  {
   "cell_type": "code",
   "execution_count": 10,
   "metadata": {},
   "outputs": [
    {
     "name": "stdout",
     "output_type": "stream",
     "text": [
      "\n",
      "Number of unique ingredients: 2231\n",
      "Sample tokens: [['vitis vinifera (grape) fruit water*', 'vitis vinifera (grape) juice*', 'nitrogen. *plant origin.'], ['water', 'glyceryl stearate se', 'glycerin', 'caprylic/capric triglyceride', 'cetyl alcohol', 'collodial oatmeal', 'dimethicone', 'squalane', 'urea', 'allantoin', 'ceramide np', 'butyrospermum parkii (shea) butter', 'limnanthes alba (meadowfoam) seed oil', 'persea gratissima (avocado) oil', 'chrysanthemum parthenium (feverfew) extract', 'camellia sinensis leaf extract', 'glycyrrhiza glabra (licorice) root extract', 'caprylyl glycol', 'phenoxyethanol', 'carbomer', 'sodium hydroxide', 'leuconostoc/radish root ferment filtrate', 'edta.']]\n"
     ]
    }
   ],
   "source": [
    "\n",
    "# Initialize variables\n",
    "corpus = []\n",
    "ingredient_idx = {}\n",
    "idx = 0\n",
    "\n",
    "# Tokenize the ingredients for each product\n",
    "for ingredients in moisturizers_dry['Ingredients']:\n",
    "    # Convert to lowercase and split by ', '\n",
    "    tokens = ingredients.lower().split(', ')\n",
    "    corpus.append(tokens)\n",
    "    for token in tokens:\n",
    "        if token not in ingredient_idx:\n",
    "            ingredient_idx[token] = idx\n",
    "            idx += 1\n",
    "\n",
    "print(\"\\nNumber of unique ingredients:\", len(ingredient_idx))\n",
    "print(\"Sample tokens:\", corpus[:2])"
   ]
  },
  {
   "cell_type": "code",
   "execution_count": 11,
   "metadata": {},
   "outputs": [
    {
     "name": "stdout",
     "output_type": "stream",
     "text": [
      "\n",
      "Document-Term Matrix shape: (190, 2231)\n"
     ]
    }
   ],
   "source": [
    "\n",
    "# Get the dimensions of the matrix\n",
    "M = len(moisturizers_dry) \n",
    "N = len(ingredient_idx)    \n",
    "\n",
    "\n",
    "A = np.zeros((M, N))\n",
    "\n",
    "print(\"\\nDocument-Term Matrix shape:\", A.shape)"
   ]
  },
  {
   "cell_type": "code",
   "execution_count": 12,
   "metadata": {},
   "outputs": [
    {
     "name": "stdout",
     "output_type": "stream",
     "text": [
      "\n",
      "One-hot encoding for sample tokens: [1. 1. 1. ... 0. 0. 0.]\n"
     ]
    }
   ],
   "source": [
    "\n",
    "def oh_encoder(tokens):\n",
    "  \n",
    "    x = np.zeros(N)\n",
    "    for token in tokens:\n",
    "        if token in ingredient_idx:\n",
    "            idx = ingredient_idx[token]\n",
    "            x[idx] = 1\n",
    "    return x\n",
    "\n",
    "sample_tokens = corpus[0]\n",
    "print(\"\\nOne-hot encoding for sample tokens:\", oh_encoder(sample_tokens))"
   ]
  },
  {
   "cell_type": "code",
   "execution_count": 13,
   "metadata": {},
   "outputs": [
    {
     "name": "stdout",
     "output_type": "stream",
     "text": [
      "\n",
      "Populated Document-Term Matrix:\n",
      "[[1. 1. 1. 0. 0. 0. 0. 0. 0. 0.]\n",
      " [0. 0. 0. 1. 1. 1. 1. 1. 1. 1.]\n",
      " [0. 0. 0. 1. 0. 1. 0. 0. 0. 0.]\n",
      " [0. 0. 0. 1. 0. 1. 0. 0. 0. 1.]\n",
      " [0. 0. 0. 0. 0. 0. 0. 0. 0. 0.]]\n"
     ]
    }
   ],
   "source": [
    "\n",
    "for i, tokens in enumerate(corpus):\n",
    "    A[i] = oh_encoder(tokens)\n",
    "\n",
    "\n",
    "print(\"\\nPopulated Document-Term Matrix:\")\n",
    "print(A[:5, :10])"
   ]
  },
  {
   "cell_type": "code",
   "execution_count": 14,
   "metadata": {},
   "outputs": [
    {
     "name": "stderr",
     "output_type": "stream",
     "text": [
      "c:\\Users\\K. Vamsi Krishna\\AppData\\Local\\Programs\\Python\\Python310\\lib\\site-packages\\sklearn\\manifold\\_t_sne.py:800: FutureWarning: The default initialization in TSNE will change from 'random' to 'pca' in 1.2.\n",
      "  warnings.warn(\n"
     ]
    },
    {
     "name": "stdout",
     "output_type": "stream",
     "text": [
      "\n",
      "t-SNE Features:\n",
      "          X         Y\n",
      "0 -0.683878  0.327165\n",
      "1 -1.752962  2.900554\n",
      "2  0.977694  1.045864\n",
      "3  0.339708  3.150104\n",
      "4 -0.811539  0.364490\n"
     ]
    }
   ],
   "source": [
    "\n",
    "model = TSNE(n_components=2, learning_rate=200, random_state=42)\n",
    "\n",
    "\n",
    "tsne_features = model.fit_transform(A)\n",
    "\n",
    "\n",
    "moisturizers_dry['X'] = tsne_features[:, 0]\n",
    "moisturizers_dry['Y'] = tsne_features[:, 1]\n",
    "\n",
    "\n",
    "print(\"\\nt-SNE Features:\")\n",
    "print(moisturizers_dry[['X', 'Y']].head())"
   ]
  },
  {
   "cell_type": "code",
   "execution_count": 15,
   "metadata": {},
   "outputs": [
    {
     "name": "stderr",
     "output_type": "stream",
     "text": [
      "BokehDeprecationWarning: 'circle() method with size value' was deprecated in Bokeh 3.4.0 and will be removed, use 'scatter(size=...) instead' instead.\n"
     ]
    },
    {
     "data": {
      "text/html": [
       "<div style=\"display: table;\"><div style=\"display: table-row;\"><div style=\"display: table-cell;\"><b title=\"bokeh.models.renderers.glyph_renderer.GlyphRenderer\">GlyphRenderer</b>(</div><div style=\"display: table-cell;\">id&nbsp;=&nbsp;'p1045', <span id=\"p1049\" style=\"cursor: pointer;\">&hellip;)</span></div></div><div class=\"p1048\" style=\"display: none;\"><div style=\"display: table-cell;\"></div><div style=\"display: table-cell;\">context_menu&nbsp;=&nbsp;None,</div></div><div class=\"p1048\" style=\"display: none;\"><div style=\"display: table-cell;\"></div><div style=\"display: table-cell;\">coordinates&nbsp;=&nbsp;None,</div></div><div class=\"p1048\" style=\"display: none;\"><div style=\"display: table-cell;\"></div><div style=\"display: table-cell;\">css_classes&nbsp;=&nbsp;[],</div></div><div class=\"p1048\" style=\"display: none;\"><div style=\"display: table-cell;\"></div><div style=\"display: table-cell;\">css_variables&nbsp;=&nbsp;{},</div></div><div class=\"p1048\" style=\"display: none;\"><div style=\"display: table-cell;\"></div><div style=\"display: table-cell;\">data_source&nbsp;=&nbsp;ColumnDataSource(id='p1001', ...),</div></div><div class=\"p1048\" style=\"display: none;\"><div style=\"display: table-cell;\"></div><div style=\"display: table-cell;\">glyph&nbsp;=&nbsp;Scatter(id='p1042', ...),</div></div><div class=\"p1048\" style=\"display: none;\"><div style=\"display: table-cell;\"></div><div style=\"display: table-cell;\">group&nbsp;=&nbsp;None,</div></div><div class=\"p1048\" style=\"display: none;\"><div style=\"display: table-cell;\"></div><div style=\"display: table-cell;\">hover_glyph&nbsp;=&nbsp;None,</div></div><div class=\"p1048\" style=\"display: none;\"><div style=\"display: table-cell;\"></div><div style=\"display: table-cell;\">js_event_callbacks&nbsp;=&nbsp;{},</div></div><div class=\"p1048\" style=\"display: none;\"><div style=\"display: table-cell;\"></div><div style=\"display: table-cell;\">js_property_callbacks&nbsp;=&nbsp;{},</div></div><div class=\"p1048\" style=\"display: none;\"><div style=\"display: table-cell;\"></div><div style=\"display: table-cell;\">level&nbsp;=&nbsp;'glyph',</div></div><div class=\"p1048\" style=\"display: none;\"><div style=\"display: table-cell;\"></div><div style=\"display: table-cell;\">muted&nbsp;=&nbsp;False,</div></div><div class=\"p1048\" style=\"display: none;\"><div style=\"display: table-cell;\"></div><div style=\"display: table-cell;\">muted_glyph&nbsp;=&nbsp;Scatter(id='p1044', ...),</div></div><div class=\"p1048\" style=\"display: none;\"><div style=\"display: table-cell;\"></div><div style=\"display: table-cell;\">name&nbsp;=&nbsp;None,</div></div><div class=\"p1048\" style=\"display: none;\"><div style=\"display: table-cell;\"></div><div style=\"display: table-cell;\">nonselection_glyph&nbsp;=&nbsp;Scatter(id='p1043', ...),</div></div><div class=\"p1048\" style=\"display: none;\"><div style=\"display: table-cell;\"></div><div style=\"display: table-cell;\">propagate_hover&nbsp;=&nbsp;False,</div></div><div class=\"p1048\" style=\"display: none;\"><div style=\"display: table-cell;\"></div><div style=\"display: table-cell;\">selection_glyph&nbsp;=&nbsp;'auto',</div></div><div class=\"p1048\" style=\"display: none;\"><div style=\"display: table-cell;\"></div><div style=\"display: table-cell;\">styles&nbsp;=&nbsp;{},</div></div><div class=\"p1048\" style=\"display: none;\"><div style=\"display: table-cell;\"></div><div style=\"display: table-cell;\">stylesheets&nbsp;=&nbsp;[],</div></div><div class=\"p1048\" style=\"display: none;\"><div style=\"display: table-cell;\"></div><div style=\"display: table-cell;\">subscribed_events&nbsp;=&nbsp;PropertyValueSet(),</div></div><div class=\"p1048\" style=\"display: none;\"><div style=\"display: table-cell;\"></div><div style=\"display: table-cell;\">syncable&nbsp;=&nbsp;True,</div></div><div class=\"p1048\" style=\"display: none;\"><div style=\"display: table-cell;\"></div><div style=\"display: table-cell;\">tags&nbsp;=&nbsp;[],</div></div><div class=\"p1048\" style=\"display: none;\"><div style=\"display: table-cell;\"></div><div style=\"display: table-cell;\">view&nbsp;=&nbsp;CDSView(id='p1046', ...),</div></div><div class=\"p1048\" style=\"display: none;\"><div style=\"display: table-cell;\"></div><div style=\"display: table-cell;\">visible&nbsp;=&nbsp;True,</div></div><div class=\"p1048\" style=\"display: none;\"><div style=\"display: table-cell;\"></div><div style=\"display: table-cell;\">x_range_name&nbsp;=&nbsp;'default',</div></div><div class=\"p1048\" style=\"display: none;\"><div style=\"display: table-cell;\"></div><div style=\"display: table-cell;\">y_range_name&nbsp;=&nbsp;'default')</div></div></div>\n",
       "<script>\n",
       "(function() {\n",
       "  let expanded = false;\n",
       "  const ellipsis = document.getElementById(\"p1049\");\n",
       "  ellipsis.addEventListener(\"click\", function() {\n",
       "    const rows = document.getElementsByClassName(\"p1048\");\n",
       "    for (let i = 0; i < rows.length; i++) {\n",
       "      const el = rows[i];\n",
       "      el.style.display = expanded ? \"none\" : \"table-row\";\n",
       "    }\n",
       "    ellipsis.innerHTML = expanded ? \"&hellip;)\" : \"&lsaquo;&lsaquo;&lsaquo;\";\n",
       "    expanded = !expanded;\n",
       "  });\n",
       "})();\n",
       "</script>\n"
      ],
      "text/plain": [
       "GlyphRenderer(id='p1045', ...)"
      ]
     },
     "execution_count": 15,
     "metadata": {},
     "output_type": "execute_result"
    }
   ],
   "source": [
    "\n",
    "source = ColumnDataSource(moisturizers_dry)\n",
    "\n",
    "\n",
    "plot = figure(title=\"t-SNE Visualization of Moisturizers for Dry Skin\",\n",
    "              x_axis_label=\"t-SNE 1\",\n",
    "              y_axis_label=\"t-SNE 2\",\n",
    "              width=800, height=600)\n",
    "\n",
    "\n",
    "plot.circle(x=\"X\", y=\"Y\", source=source, size=10, color=\"navy\", alpha=0.6)"
   ]
  },
  {
   "cell_type": "code",
   "execution_count": 18,
   "metadata": {},
   "outputs": [],
   "source": [
    "\n",
    "hover = HoverTool(tooltips=[\n",
    "    (\"Item\", \"@Name\"),\n",
    "    (\"Brand\", \"@Brand\"),\n",
    "    (\"Price\", \"$@Price\"),\n",
    "    (\"Rank\", \"@Rank\")\n",
    "])\n",
    "\n",
    "\n",
    "plot.add_tools(hover)\n",
    "\n",
    "\n",
    "show(plot)"
   ]
  },
  {
   "cell_type": "code",
   "execution_count": 17,
   "metadata": {},
   "outputs": [
    {
     "name": "stdout",
     "output_type": "stream",
     "text": [
      "\n",
      "Product 1 Details:\n",
      "                                                  Name         Brand  Price  \\\n",
      "117  Color Control Cushion Compact Broad Spectrum S...  AMOREPACIFIC     60   \n",
      "\n",
      "     Rank  \n",
      "117   4.0  \n",
      "Ingredients: Phyllostachis Bambusoides Juice, Cyclopentasiloxane, Cyclohexasiloxane, Peg-10 Dimethicone, Phenyl Trimethicone, Butylene Glycol, Butylene Glycol Dicaprylate/Dicaprate, Alcohol, Arbutin, Lauryl Peg-9 Polydimethylsiloxyethyl Dimethicone, Acrylates/Ethylhexyl Acrylate/Dimethicone Methacrylate Copolymer, Polyhydroxystearic Acid, Sodium Chloride, Polymethyl Methacrylate, Aluminium Hydroxide, Stearic Acid, Disteardimonium Hectorite, Triethoxycaprylylsilane, Ethylhexyl Palmitate, Lecithin, Isostearic Acid, Isopropyl Palmitate, Phenoxyethanol, Polyglyceryl-3 Polyricinoleate, Acrylates/Stearyl Acrylate/Dimethicone Methacrylate Copolymer, Dimethicone, Disodium Edta, Trimethylsiloxysilicate, Ethylhexyglycerin, Dimethicone/Vinyl Dimethicone Crosspolymer, Water, Silica, Camellia Japonica Seed Oil, Camillia Sinensis Leaf Extract, Caprylyl Glycol, 1,2-Hexanediol, Fragrance, Titanium Dioxide, Iron Oxides (Ci 77492, Ci 77491, Ci77499).\n",
      "\n",
      "Product 2 Details:\n",
      "                                Name    Brand  Price  Rank\n",
      "36  BB Cushion Hydra Radiance SPF 50  LANEIGE     38   4.3\n",
      "Ingredients: Water, Cyclopentasiloxane, Zinc Oxide (CI 77947), Ethylhexyl Methoxycinnamate, PEG-10 Dimethicone, Cyclohexasiloxane, Phenyl Trimethicone, Iron Oxides (CI 77492), Butylene Glycol Dicaprylate/Dicaprate, Niacinamide, Lauryl PEG-9 Polydimethylsiloxyethyl Dimethicone, Acrylates/Ethylhexyl Acrylate/Dimethicone Methacrylate Copolymer, Titanium Dioxide (CI 77891 , Iron Oxides (CI 77491), Butylene Glycol, Sodium Chloride, Iron Oxides (CI 77499), Aluminum Hydroxide, HDI/Trimethylol Hexyllactone Crosspolymer, Stearic Acid, Methyl Methacrylate Crosspolymer, Triethoxycaprylylsilane, Phenoxyethanol, Fragrance, Disteardimonium Hectorite, Caprylyl Glycol, Yeast Extract, Acrylates/Stearyl Acrylate/Dimethicone Methacrylate Copolymer, Dimethicone, Trimethylsiloxysilicate, Polysorbate 80, Disodium EDTA, Hydrogenated Lecithin, Dimethicone/Vinyl Dimethicone Crosspolymer, Mica (CI 77019), Silica, 1,2-Hexanediol, Polypropylsilsesquioxane, Chenopodium Quinoa Seed Extract, Magnesium Sulfate, Calcium Chloride, Camellia Sinensis Leaf Extract, Manganese Sulfate, Zinc Sulfate, Ascorbyl Glucoside.\n"
     ]
    }
   ],
   "source": [
    "\n",
    "product_1 = moisturizers_dry[moisturizers_dry['Name'] == \"Color Control Cushion Compact Broad Spectrum SPF 50+\"]\n",
    "product_2 = moisturizers_dry[moisturizers_dry['Name'] == \"BB Cushion Hydra Radiance SPF 50\"]\n",
    "\n",
    "\n",
    "if not product_1.empty and not product_2.empty:\n",
    "    print(\"\\nProduct 1 Details:\")\n",
    "    print(product_1[['Name', 'Brand', 'Price', 'Rank']])\n",
    "    print(\"Ingredients:\", product_1.iloc[0]['Ingredients'])\n",
    "\n",
    "    print(\"\\nProduct 2 Details:\")\n",
    "    print(product_2[['Name', 'Brand', 'Price', 'Rank']])\n",
    "    print(\"Ingredients:\", product_2.iloc[0]['Ingredients'])\n",
    "else:\n",
    "    print(\"\\nOne or both products not found in the dataset.\")"
   ]
  }
 ],
 "metadata": {
  "kernelspec": {
   "display_name": "Python 3",
   "language": "python",
   "name": "python3"
  },
  "language_info": {
   "codemirror_mode": {
    "name": "ipython",
    "version": 3
   },
   "file_extension": ".py",
   "mimetype": "text/x-python",
   "name": "python",
   "nbconvert_exporter": "python",
   "pygments_lexer": "ipython3",
   "version": "3.10.7"
  }
 },
 "nbformat": 4,
 "nbformat_minor": 2
}
